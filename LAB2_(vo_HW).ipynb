{
  "nbformat": 4,
  "nbformat_minor": 0,
  "metadata": {
    "colab": {
      "provenance": []
    },
    "kernelspec": {
      "name": "python3",
      "display_name": "Python 3"
    },
    "language_info": {
      "name": "python"
    }
  },
  "cells": [
    {
      "cell_type": "markdown",
      "source": [
        "Загружаем необходимые библиотеки"
      ],
      "metadata": {
        "id": "c6yNxZ2EK2s-"
      }
    },
    {
      "cell_type": "code",
      "source": [
        "from pyspark.sql import SparkSession\n",
        "from pyspark.sql.functions import avg, min, count\n",
        "from pyspark.sql.functions import col, mean\n",
        "from pyspark.sql.functions import col, mean, count, expr, sum as spark_sum, when"
      ],
      "metadata": {
        "id": "pgs6emyiK-tX"
      },
      "execution_count": 93,
      "outputs": []
    },
    {
      "cell_type": "markdown",
      "source": [
        "# **Задание 1**"
      ],
      "metadata": {
        "id": "-ozV9FUXLE4I"
      }
    },
    {
      "cell_type": "markdown",
      "source": [
        "Создаем SparkSession"
      ],
      "metadata": {
        "id": "cm7YcaWhLNca"
      }
    },
    {
      "cell_type": "code",
      "source": [
        "spark = SparkSession.builder \\\n",
        "    .appName(\"JSON to DataFrame\") \\\n",
        "    .getOrCreate()"
      ],
      "metadata": {
        "id": "AvYpe0ftLMaw"
      },
      "execution_count": 94,
      "outputs": []
    },
    {
      "cell_type": "markdown",
      "source": [
        "Считываем файл 1.json и создаем Spark DataFrame"
      ],
      "metadata": {
        "id": "KB7VqQIULUxB"
      }
    },
    {
      "cell_type": "code",
      "source": [
        "df = spark.read.json(\"/content/1.json\")"
      ],
      "metadata": {
        "id": "GgvzHSqtLYVa"
      },
      "execution_count": 95,
      "outputs": []
    },
    {
      "cell_type": "markdown",
      "source": [
        "Выводим первые 12 строк"
      ],
      "metadata": {
        "id": "zLrWX2Z3LiZd"
      }
    },
    {
      "cell_type": "code",
      "source": [
        "df.show(12)"
      ],
      "metadata": {
        "colab": {
          "base_uri": "https://localhost:8080/"
        },
        "id": "NwF7-LK3LlOU",
        "outputId": "84ac00ef-62e2-4281-e0ba-d6ed586952d6"
      },
      "execution_count": 96,
      "outputs": [
        {
          "output_type": "stream",
          "name": "stdout",
          "text": [
            "+-----------------+--------------------+---------------+--------------------+-----+----------+---------------+--------+------+--------------------+\n",
            "|         category|         description|expiration_date|                name|price|product_id|production_date|quantity|rating|              status|\n",
            "+-----------------+--------------------+---------------+--------------------+-----+----------+---------------+--------+------+--------------------+\n",
            "|           Фрукты|Прошел сертификац...|     2025-03-09|              Яблоко| 2241|         1|     2013-08-18|      56|  1.41|           Delivered|\n",
            "|             Мясо|Отличается высоки...|     2002-01-15|      Куриные грудки| 9467|         2|     1998-09-04|     472|  0.21|                 New|\n",
            "|Молочные продукты|Способствует сниж...|     2020-05-01|               Шубат| 3812|         3|     2015-05-14|      11|  1.89|Available for Pickup|\n",
            "|Молочные продукты|Прошел строгий ко...|     2023-03-03|            Пармезан| 9478|         4|     2018-03-02|     364|   0.1|            Shipping|\n",
            "|             Мясо|Отличается высоки...|     2012-08-10|     Гусиные потроха| 9476|         5|     2003-01-13|     646|  4.65|            Shipping|\n",
            "|            Овощи|Помогает поддержи...|     2007-01-01|                Окра| 1730|         6|     1999-03-04|     837|   1.8|            In Stock|\n",
            "|            Овощи|Отличается высоки...|     2005-10-02|            Патиссон| 8246|         7|     2003-01-03|     208|  2.13|            Shipping|\n",
            "|             Мясо|Прошел клинически...|     2025-06-04|                Вымя| 8220|         8|     1991-02-06|     593|  0.15|            Returned|\n",
            "|            Овощи|Помогает поддержи...|     2030-02-27|             Помидор| 8675|         9|     2015-01-22|     672|  4.36|           Backorder|\n",
            "|  Товары для дома|Помогает улучшить...|     2029-06-11|Пакеты для фестиваля| 4242|        10|     1995-01-01|      13|  2.67|            Shipping|\n",
            "|          Напитки|Богат кальцием, н...|     2020-04-10|                Burn| 5827|        11|     2008-06-02|     778|   2.5|            Refunded|\n",
            "|          Напитки|Является важным к...|     2023-02-10|   Газированная вода| 4831|        12|     1993-01-01|     151|   0.7|           Cancelled|\n",
            "+-----------------+--------------------+---------------+--------------------+-----+----------+---------------+--------+------+--------------------+\n",
            "only showing top 12 rows\n",
            "\n"
          ]
        }
      ]
    },
    {
      "cell_type": "markdown",
      "source": [
        " Выводим количество колонок"
      ],
      "metadata": {
        "id": "KO2q0uFELoB0"
      }
    },
    {
      "cell_type": "code",
      "source": [
        "column_count = len(df.columns)\n",
        "print(f\"Количество колонок: {column_count}\")"
      ],
      "metadata": {
        "colab": {
          "base_uri": "https://localhost:8080/"
        },
        "id": "-hkPk2eGLuEN",
        "outputId": "ee69f048-4a31-47ba-964d-c42bbac9b847"
      },
      "execution_count": 97,
      "outputs": [
        {
          "output_type": "stream",
          "name": "stdout",
          "text": [
            "Количество колонок: 10\n"
          ]
        }
      ]
    },
    {
      "cell_type": "markdown",
      "source": [
        "Выводим статистические характеристики для всех колонок"
      ],
      "metadata": {
        "id": "nt62vfTpLwCd"
      }
    },
    {
      "cell_type": "code",
      "source": [
        "df.describe().show()"
      ],
      "metadata": {
        "colab": {
          "base_uri": "https://localhost:8080/"
        },
        "id": "MbnSC6_OL1Fm",
        "outputId": "21cfd843-ef8b-478a-8299-c6553a922469"
      },
      "execution_count": 98,
      "outputs": [
        {
          "output_type": "stream",
          "name": "stdout",
          "text": [
            "+-------+--------+--------------------+---------------+----+-----------------+------------------+---------------+------------------+------------------+--------------------+\n",
            "|summary|category|         description|expiration_date|name|            price|        product_id|production_date|          quantity|            rating|              status|\n",
            "+-------+--------+--------------------+---------------+----+-----------------+------------------+---------------+------------------+------------------+--------------------+\n",
            "|  count|     791|                 791|            791| 791|              791|               791|            791|               791|               791|                 791|\n",
            "|   mean|    NULL|                NULL|           NULL|NULL| 5162.02402022756|             396.0|           NULL| 507.6321112515803|2.5377117572692813|                NULL|\n",
            "| stddev|    NULL|                NULL|           NULL|NULL|2955.231614762311|228.48632344190756|           NULL|286.43209800060936|1.4450095520163713|                NULL|\n",
            "|    min| Бакалея|Богат кальцием, н...|     1990-10-01| 7UP|              100|                 1|     1990-01-01|                 1|              0.01|Available for Pickup|\n",
            "|    max|  Фрукты|Является источник...|     2030-10-10| Ямс|             9996|               791|     2022-09-12|               999|               5.0|Temporarily Unava...|\n",
            "+-------+--------+--------------------+---------------+----+-----------------+------------------+---------------+------------------+------------------+--------------------+\n",
            "\n"
          ]
        }
      ]
    },
    {
      "cell_type": "markdown",
      "source": [
        "Удаляем указанную колонку: description"
      ],
      "metadata": {
        "id": "3Pag-cCZL6Wg"
      }
    },
    {
      "cell_type": "code",
      "source": [
        "df = df.drop(\"description\")"
      ],
      "metadata": {
        "id": "P8su-e-9L8bH"
      },
      "execution_count": 99,
      "outputs": []
    },
    {
      "cell_type": "markdown",
      "source": [
        "Создаем новую колонку: цена в $ (price * (94.24"
      ],
      "metadata": {
        "id": "dSc1xMg0L-jQ"
      }
    },
    {
      "cell_type": "code",
      "source": [
        "df = df.withColumn(\"price_in_$\", df[\"price\"] * 94.24)"
      ],
      "metadata": {
        "id": "YtFxkSuVMFG4"
      },
      "execution_count": 100,
      "outputs": []
    },
    {
      "cell_type": "markdown",
      "source": [
        "Проверяем колонки"
      ],
      "metadata": {
        "id": "hF-GFkzlM4PY"
      }
    },
    {
      "cell_type": "code",
      "source": [
        "df.show(12)"
      ],
      "metadata": {
        "colab": {
          "base_uri": "https://localhost:8080/"
        },
        "id": "67tVfESgMjzV",
        "outputId": "8000c93e-dd78-4c19-b682-81cd9916b353"
      },
      "execution_count": 101,
      "outputs": [
        {
          "output_type": "stream",
          "name": "stdout",
          "text": [
            "+-----------------+---------------+--------------------+-----+----------+---------------+--------+------+--------------------+------------------+\n",
            "|         category|expiration_date|                name|price|product_id|production_date|quantity|rating|              status|        price_in_$|\n",
            "+-----------------+---------------+--------------------+-----+----------+---------------+--------+------+--------------------+------------------+\n",
            "|           Фрукты|     2025-03-09|              Яблоко| 2241|         1|     2013-08-18|      56|  1.41|           Delivered|         211191.84|\n",
            "|             Мясо|     2002-01-15|      Куриные грудки| 9467|         2|     1998-09-04|     472|  0.21|                 New|         892170.08|\n",
            "|Молочные продукты|     2020-05-01|               Шубат| 3812|         3|     2015-05-14|      11|  1.89|Available for Pickup|         359242.88|\n",
            "|Молочные продукты|     2023-03-03|            Пармезан| 9478|         4|     2018-03-02|     364|   0.1|            Shipping|         893206.72|\n",
            "|             Мясо|     2012-08-10|     Гусиные потроха| 9476|         5|     2003-01-13|     646|  4.65|            Shipping|         893018.24|\n",
            "|            Овощи|     2007-01-01|                Окра| 1730|         6|     1999-03-04|     837|   1.8|            In Stock|163035.19999999998|\n",
            "|            Овощи|     2005-10-02|            Патиссон| 8246|         7|     2003-01-03|     208|  2.13|            Shipping| 777103.0399999999|\n",
            "|             Мясо|     2025-06-04|                Вымя| 8220|         8|     1991-02-06|     593|  0.15|            Returned| 774652.7999999999|\n",
            "|            Овощи|     2030-02-27|             Помидор| 8675|         9|     2015-01-22|     672|  4.36|           Backorder|          817532.0|\n",
            "|  Товары для дома|     2029-06-11|Пакеты для фестиваля| 4242|        10|     1995-01-01|      13|  2.67|            Shipping|399766.07999999996|\n",
            "|          Напитки|     2020-04-10|                Burn| 5827|        11|     2008-06-02|     778|   2.5|            Refunded|         549136.48|\n",
            "|          Напитки|     2023-02-10|   Газированная вода| 4831|        12|     1993-01-01|     151|   0.7|           Cancelled|         455273.44|\n",
            "+-----------------+---------------+--------------------+-----+----------+---------------+--------+------+--------------------+------------------+\n",
            "only showing top 12 rows\n",
            "\n"
          ]
        }
      ]
    },
    {
      "cell_type": "markdown",
      "source": [
        "Записываем полученный набор данных в файл: r_1.csv"
      ],
      "metadata": {
        "id": "WrJYcaFdMIo5"
      }
    },
    {
      "cell_type": "code",
      "source": [
        "df.write.csv(\"r_1.csv\", header=True, mode='overwrite')"
      ],
      "metadata": {
        "id": "DQOjEFNSPdCO"
      },
      "execution_count": 102,
      "outputs": []
    },
    {
      "cell_type": "code",
      "source": [
        "spark.stop() #Завершаем работу с Spark"
      ],
      "metadata": {
        "id": "CWH0qORsOSWr"
      },
      "execution_count": 103,
      "outputs": []
    },
    {
      "cell_type": "markdown",
      "source": [
        "# **Задание 2**"
      ],
      "metadata": {
        "id": "vPhQ3TuCPgcn"
      }
    },
    {
      "cell_type": "code",
      "source": [
        "spark = SparkSession.builder \\\n",
        "    .appName(\"JSON to DataFrame\") \\\n",
        "    .getOrCreate()"
      ],
      "metadata": {
        "id": "InjJzEZ6OTA0"
      },
      "execution_count": 104,
      "outputs": []
    },
    {
      "cell_type": "markdown",
      "source": [
        "Считываем файл 1.json и создаем Spark DataFrame"
      ],
      "metadata": {
        "id": "ntgCXIsEPtIQ"
      }
    },
    {
      "cell_type": "code",
      "source": [
        "df = spark.read.json(\"/content/2.json\")"
      ],
      "metadata": {
        "id": "nqNMMjNWHXT2"
      },
      "execution_count": 105,
      "outputs": []
    },
    {
      "cell_type": "markdown",
      "source": [
        "Выводим последние 5 строк"
      ],
      "metadata": {
        "id": "WskTvit5P09q"
      }
    },
    {
      "cell_type": "code",
      "source": [
        "df.tail(5)"
      ],
      "metadata": {
        "colab": {
          "base_uri": "https://localhost:8080/"
        },
        "id": "SRnIKtj_HXMt",
        "outputId": "a99a35d2-c2bd-4dfe-af1f-72e6967c5988"
      },
      "execution_count": 106,
      "outputs": [
        {
          "output_type": "execute_result",
          "data": {
            "text/plain": [
              "[Row(category='Electronics', description='Item 904', item_id=904, length=4888.74, price=1734.71, weight=6099.33, width=7732.28),\n",
              " Row(category='Musical Instruments', description='Item 905', item_id=905, length=270.35, price=2648.39, weight=2266.65, width=9327.94),\n",
              " Row(category='Art Supplies', description='Item 906', item_id=906, length=334.56, price=7888.39, weight=1222.35, width=89.4),\n",
              " Row(category='Musical Instruments', description='Item 907', item_id=907, length=2013.71, price=8507.64, weight=984.87, width=574.17),\n",
              " Row(category='Art Supplies', description='Item 908', item_id=908, length=487.62, price=74.2, weight=9007.79, width=1619.84)]"
            ]
          },
          "metadata": {},
          "execution_count": 106
        }
      ]
    },
    {
      "cell_type": "markdown",
      "source": [
        "Отфильтруем данные, где length < 4622.0"
      ],
      "metadata": {
        "id": "Lbax63yXQJQb"
      }
    },
    {
      "cell_type": "code",
      "source": [
        "filtered_df = df.filter(df[\"length\"] < 4622.0)"
      ],
      "metadata": {
        "id": "faSxl_rfHXJ1"
      },
      "execution_count": 107,
      "outputs": []
    },
    {
      "cell_type": "markdown",
      "source": [
        "Подсчитаем, сколько строк было отфильтровано на предыдущем шаге"
      ],
      "metadata": {
        "id": "up8PHt87QXhu"
      }
    },
    {
      "cell_type": "code",
      "source": [
        "filtered_count = filtered_df.count()\n",
        "print(f\"Количество отфильтрованных строк: {filtered_count}\")"
      ],
      "metadata": {
        "colab": {
          "base_uri": "https://localhost:8080/"
        },
        "id": "SCyJKx8KHXGQ",
        "outputId": "68bee949-25da-4f3d-8531-d3122f7f2ba5"
      },
      "execution_count": 108,
      "outputs": [
        {
          "output_type": "stream",
          "name": "stdout",
          "text": [
            "Количество отфильтрованных строк: 730\n"
          ]
        }
      ]
    },
    {
      "cell_type": "markdown",
      "source": [
        "Выполняем группировку по полю category, для каждой категории рассчитав: количество элементов в группе, avg price, min width, min length"
      ],
      "metadata": {
        "id": "rz-WgpWCQfm_"
      }
    },
    {
      "cell_type": "code",
      "source": [
        "grouped_df = filtered_df.groupBy(\"category\").agg(\n",
        "    count(\"*\").alias(\"count\"),\n",
        "    avg(\"price\").alias(\"avg_price\"),\n",
        "    min(\"width\").alias(\"min_width\"),\n",
        "    min(\"length\").alias(\"min_length\")\n",
        ")\n"
      ],
      "metadata": {
        "id": "5t3KwGcqHXDh"
      },
      "execution_count": 109,
      "outputs": []
    },
    {
      "cell_type": "markdown",
      "source": [
        "Записываем полученный набор данных в файл: r_2.json"
      ],
      "metadata": {
        "id": "ZpQq_XL5QnOn"
      }
    },
    {
      "cell_type": "code",
      "source": [
        "grouped_df.write.json(\"r_2.json\", mode='overwrite')"
      ],
      "metadata": {
        "id": "QjkbWypSHXAp"
      },
      "execution_count": 110,
      "outputs": []
    },
    {
      "cell_type": "code",
      "source": [
        "spark.stop()"
      ],
      "metadata": {
        "id": "PZhtVFMjQv95"
      },
      "execution_count": 111,
      "outputs": []
    },
    {
      "cell_type": "markdown",
      "source": [
        "# **Задание 3**"
      ],
      "metadata": {
        "id": "WfgV6DuYRBzc"
      }
    },
    {
      "cell_type": "code",
      "source": [
        "from pyspark.sql.functions import col, mean, count, expr, sum as spark_sum, when"
      ],
      "metadata": {
        "id": "0oeEvz21U5Wd"
      },
      "execution_count": 112,
      "outputs": []
    },
    {
      "cell_type": "code",
      "source": [
        "spark = SparkSession.builder \\\n",
        "    .appName(\"CSV to DataFrame\") \\\n",
        "    .getOrCreate()"
      ],
      "metadata": {
        "id": "fpML0GoaR1fz"
      },
      "execution_count": 113,
      "outputs": []
    },
    {
      "cell_type": "markdown",
      "source": [
        "Считываем файл 3.csv и создаем Spark DataFrame."
      ],
      "metadata": {
        "id": "nQxtMwidRMzV"
      }
    },
    {
      "cell_type": "code",
      "source": [
        "df = spark.read.csv(\"/content/3.csv\", header=True, inferSchema=True)"
      ],
      "metadata": {
        "id": "FRX1b_Z0HW3i"
      },
      "execution_count": 114,
      "outputs": []
    },
    {
      "cell_type": "markdown",
      "source": [
        "Считаем количество пропусков"
      ],
      "metadata": {
        "id": "FlA_Ij1xR7yU"
      }
    },
    {
      "cell_type": "code",
      "source": [
        "missing_counts = df.select([(count(col(c).isNull()).alias(c)) for c in df.columns])\n",
        "missing_counts.show()"
      ],
      "metadata": {
        "colab": {
          "base_uri": "https://localhost:8080/"
        },
        "id": "sYzqh2liSZmo",
        "outputId": "b3fe3c85-1f49-4689-dcab-1d94e02fb08b"
      },
      "execution_count": 115,
      "outputs": [
        {
          "output_type": "stream",
          "name": "stdout",
          "text": [
            "+---+----+-----+---+----+---+---+----+-----+-----+------+----+------+------+---+----+------+---+----+------+------+---+---+----+---+----+---+---+----+---+----+---+---+----+---+----+----+---+---+---+---+---+---+---+---+---+----+----+---+------+----+----+---+----+\n",
            "|785|-690|null2|923|-344|638|651|-710|-5168|null9|-56810|-723|null12|null13|762|-405|-51616|949|-632|null19|null20|310|784|-927|575|-403|341|-22|-272|239|-365|401|529|-108|694|-262|-388|886|394| 69|563|252| 90| -2|287|-57|-270|-876|156|-56849|-244|-569|737|-867|\n",
            "+---+----+-----+---+----+---+---+----+-----+-----+------+----+------+------+---+----+------+---+----+------+------+---+---+----+---+----+---+---+----+---+----+---+---+----+---+----+----+---+---+---+---+---+---+---+---+---+----+----+---+------+----+----+---+----+\n",
            "|289| 289|  289|289| 289|289|289| 289|  289|  289|   289| 289|   289|   289|289| 289|   289|289| 289|   289|   289|289|289| 289|289| 289|289|289| 289|289| 289|289|289| 289|289| 289| 289|289|289|289|289|289|289|289|289|289| 289| 289|289|   289| 289| 289|289| 289|\n",
            "+---+----+-----+---+----+---+---+----+-----+-----+------+----+------+------+---+----+------+---+----+------+------+---+---+----+---+----+---+---+----+---+----+---+---+----+---+----+----+---+---+---+---+---+---+---+---+---+----+----+---+------+----+----+---+----+\n",
            "\n"
          ]
        }
      ]
    },
    {
      "cell_type": "markdown",
      "source": [
        "Обработываем пропуски: заполняем средним по колонке"
      ],
      "metadata": {
        "id": "thulyuLdSjoA"
      }
    },
    {
      "cell_type": "code",
      "source": [
        "for column in df.columns:\n",
        "    mean_value = df.select(mean(col(column))).first()[0]\n",
        "    df = df.fillna({column: mean_value})"
      ],
      "metadata": {
        "id": "s4BRd87iQ8fk"
      },
      "execution_count": 116,
      "outputs": []
    },
    {
      "cell_type": "markdown",
      "source": [
        "Создаем новый столбец с количеством положительных значений"
      ],
      "metadata": {
        "id": "M0BlBAQTVQB5"
      }
    },
    {
      "cell_type": "code",
      "source": [
        "positive_count_column = sum(when(col(c) > 0, 1).otherwise(0) for c in df.columns)\n",
        "df = df.withColumn(\"positive_count\", positive_count_column)"
      ],
      "metadata": {
        "id": "4nWaKQTzU-KW"
      },
      "execution_count": 117,
      "outputs": []
    },
    {
      "cell_type": "markdown",
      "source": [
        "Производим фильтрацию данных: оставляем строки, в которых количество положительных элементов больше 0."
      ],
      "metadata": {
        "id": "NF_SJoKGVjP8"
      }
    },
    {
      "cell_type": "code",
      "source": [
        "df_filtered = df.where(col(\"positive_count\") > 0)"
      ],
      "metadata": {
        "id": "oVUOA9_PU-Fm"
      },
      "execution_count": 118,
      "outputs": []
    },
    {
      "cell_type": "markdown",
      "source": [
        "Подсчитываем статистику по каждой колонке и сохраняем в отдельный df"
      ],
      "metadata": {
        "id": "8uxJkABCVwnl"
      }
    },
    {
      "cell_type": "code",
      "source": [
        "stats_df = df_filtered.describe()"
      ],
      "metadata": {
        "id": "FIW4s43iU-Bu"
      },
      "execution_count": 119,
      "outputs": []
    },
    {
      "cell_type": "markdown",
      "source": [
        "Записываем полученный df со статистикой: r_3.csv"
      ],
      "metadata": {
        "id": "WZBi3ygMWBjv"
      }
    },
    {
      "cell_type": "code",
      "source": [
        "stats_df.write.csv(\"r_3.csv\", header=True, mode='overwrite')"
      ],
      "metadata": {
        "id": "WYN-SH50U99Y"
      },
      "execution_count": 120,
      "outputs": []
    },
    {
      "cell_type": "code",
      "source": [
        "spark.stop()"
      ],
      "metadata": {
        "id": "iobCuSlUVJTa"
      },
      "execution_count": 121,
      "outputs": []
    }
  ]
}