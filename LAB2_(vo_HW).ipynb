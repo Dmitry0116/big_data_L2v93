{
  "nbformat": 4,
  "nbformat_minor": 0,
  "metadata": {
    "colab": {
      "provenance": []
    },
    "kernelspec": {
      "name": "python3",
      "display_name": "Python 3"
    },
    "language_info": {
      "name": "python"
    }
  },
  "cells": [
    {
      "cell_type": "markdown",
      "source": [
        "# **Задание 1**"
      ],
      "metadata": {
        "id": "dm9DjeEypYOe"
      }
    },
    {
      "cell_type": "markdown",
      "source": [
        "Загружаем необходимые библиотеки"
      ],
      "metadata": {
        "id": "sRDIn2yepRV9"
      }
    },
    {
      "cell_type": "code",
      "source": [
        "from pyspark.sql import SparkSession\n",
        "import os\n",
        "import shutil"
      ],
      "metadata": {
        "id": "rEornLNipbeO"
      },
      "execution_count": 3,
      "outputs": []
    },
    {
      "cell_type": "markdown",
      "source": [
        "Создаем SparkSession"
      ],
      "metadata": {
        "id": "tuLR--55pgB3"
      }
    },
    {
      "cell_type": "code",
      "source": [
        "spark = SparkSession.builder \\\n",
        "    .appName(\"JSON to DataFrame\") \\\n",
        "    .getOrCreate()"
      ],
      "metadata": {
        "id": "MlfqWpQxpg9f"
      },
      "execution_count": 4,
      "outputs": []
    },
    {
      "cell_type": "markdown",
      "source": [
        "Считываем файл 1.json и создаем Spark DataFrame"
      ],
      "metadata": {
        "id": "S1wj4QQYpiy_"
      }
    },
    {
      "cell_type": "code",
      "source": [
        "df = spark.read.json(\"/content/1.json\")"
      ],
      "metadata": {
        "id": "5EpRvCVSpleQ"
      },
      "execution_count": 5,
      "outputs": []
    },
    {
      "cell_type": "markdown",
      "source": [
        "Выводим первые 12 строк"
      ],
      "metadata": {
        "id": "rDVJeNYdpnXg"
      }
    },
    {
      "cell_type": "code",
      "source": [
        "df.show(12)"
      ],
      "metadata": {
        "colab": {
          "base_uri": "https://localhost:8080/"
        },
        "id": "GmXU29Usppw5",
        "outputId": "d1ee0777-979e-4336-9133-632e03a8c817"
      },
      "execution_count": 6,
      "outputs": [
        {
          "output_type": "stream",
          "name": "stdout",
          "text": [
            "+-----------------+--------------------+---------------+--------------------+-----+----------+---------------+--------+------+--------------------+\n",
            "|         category|         description|expiration_date|                name|price|product_id|production_date|quantity|rating|              status|\n",
            "+-----------------+--------------------+---------------+--------------------+-----+----------+---------------+--------+------+--------------------+\n",
            "|           Фрукты|Прошел сертификац...|     2025-03-09|              Яблоко| 2241|         1|     2013-08-18|      56|  1.41|           Delivered|\n",
            "|             Мясо|Отличается высоки...|     2002-01-15|      Куриные грудки| 9467|         2|     1998-09-04|     472|  0.21|                 New|\n",
            "|Молочные продукты|Способствует сниж...|     2020-05-01|               Шубат| 3812|         3|     2015-05-14|      11|  1.89|Available for Pickup|\n",
            "|Молочные продукты|Прошел строгий ко...|     2023-03-03|            Пармезан| 9478|         4|     2018-03-02|     364|   0.1|            Shipping|\n",
            "|             Мясо|Отличается высоки...|     2012-08-10|     Гусиные потроха| 9476|         5|     2003-01-13|     646|  4.65|            Shipping|\n",
            "|            Овощи|Помогает поддержи...|     2007-01-01|                Окра| 1730|         6|     1999-03-04|     837|   1.8|            In Stock|\n",
            "|            Овощи|Отличается высоки...|     2005-10-02|            Патиссон| 8246|         7|     2003-01-03|     208|  2.13|            Shipping|\n",
            "|             Мясо|Прошел клинически...|     2025-06-04|                Вымя| 8220|         8|     1991-02-06|     593|  0.15|            Returned|\n",
            "|            Овощи|Помогает поддержи...|     2030-02-27|             Помидор| 8675|         9|     2015-01-22|     672|  4.36|           Backorder|\n",
            "|  Товары для дома|Помогает улучшить...|     2029-06-11|Пакеты для фестиваля| 4242|        10|     1995-01-01|      13|  2.67|            Shipping|\n",
            "|          Напитки|Богат кальцием, н...|     2020-04-10|                Burn| 5827|        11|     2008-06-02|     778|   2.5|            Refunded|\n",
            "|          Напитки|Является важным к...|     2023-02-10|   Газированная вода| 4831|        12|     1993-01-01|     151|   0.7|           Cancelled|\n",
            "+-----------------+--------------------+---------------+--------------------+-----+----------+---------------+--------+------+--------------------+\n",
            "only showing top 12 rows\n",
            "\n"
          ]
        }
      ]
    },
    {
      "cell_type": "markdown",
      "source": [
        "Выводим количество колонок"
      ],
      "metadata": {
        "id": "0GlaqTy4pr-J"
      }
    },
    {
      "cell_type": "code",
      "source": [
        "column_count = len(df.columns)\n",
        "print(f\"Количество колонок: {column_count}\")"
      ],
      "metadata": {
        "colab": {
          "base_uri": "https://localhost:8080/"
        },
        "id": "okAlBDokpulJ",
        "outputId": "96eb70c0-8405-4302-83ac-a2ec83faf3cf"
      },
      "execution_count": 7,
      "outputs": [
        {
          "output_type": "stream",
          "name": "stdout",
          "text": [
            "Количество колонок: 10\n"
          ]
        }
      ]
    },
    {
      "cell_type": "markdown",
      "source": [
        "Выводим статистические характеристики для всех колонок"
      ],
      "metadata": {
        "id": "Zu1LQsH1p3Sz"
      }
    },
    {
      "cell_type": "code",
      "source": [
        "df.describe().show()"
      ],
      "metadata": {
        "colab": {
          "base_uri": "https://localhost:8080/"
        },
        "id": "AOXYCc0Sp7_j",
        "outputId": "d14c913c-962a-4cdf-f597-564fb8c8949c"
      },
      "execution_count": 8,
      "outputs": [
        {
          "output_type": "stream",
          "name": "stdout",
          "text": [
            "+-------+--------+--------------------+---------------+----+-----------------+------------------+---------------+------------------+------------------+--------------------+\n",
            "|summary|category|         description|expiration_date|name|            price|        product_id|production_date|          quantity|            rating|              status|\n",
            "+-------+--------+--------------------+---------------+----+-----------------+------------------+---------------+------------------+------------------+--------------------+\n",
            "|  count|     791|                 791|            791| 791|              791|               791|            791|               791|               791|                 791|\n",
            "|   mean|    NULL|                NULL|           NULL|NULL| 5162.02402022756|             396.0|           NULL| 507.6321112515803|2.5377117572692813|                NULL|\n",
            "| stddev|    NULL|                NULL|           NULL|NULL|2955.231614762311|228.48632344190756|           NULL|286.43209800060936|1.4450095520163713|                NULL|\n",
            "|    min| Бакалея|Богат кальцием, н...|     1990-10-01| 7UP|              100|                 1|     1990-01-01|                 1|              0.01|Available for Pickup|\n",
            "|    max|  Фрукты|Является источник...|     2030-10-10| Ямс|             9996|               791|     2022-09-12|               999|               5.0|Temporarily Unava...|\n",
            "+-------+--------+--------------------+---------------+----+-----------------+------------------+---------------+------------------+------------------+--------------------+\n",
            "\n"
          ]
        }
      ]
    },
    {
      "cell_type": "markdown",
      "source": [
        "Удаляем указанную колонку: description"
      ],
      "metadata": {
        "id": "zcDdCWGUp-kk"
      }
    },
    {
      "cell_type": "code",
      "source": [
        "df = df.drop(\"description\")"
      ],
      "metadata": {
        "id": "gP3WoekNqC98"
      },
      "execution_count": 9,
      "outputs": []
    },
    {
      "cell_type": "markdown",
      "source": [
        "Создаем новую колонку: цена в $ (price * (94.24"
      ],
      "metadata": {
        "id": "aBSTsGmpqDws"
      }
    },
    {
      "cell_type": "code",
      "source": [
        "df = df.withColumn(\"price_in_$\", df[\"price\"] * 94.24)"
      ],
      "metadata": {
        "id": "IJH80x2GqH7k"
      },
      "execution_count": 10,
      "outputs": []
    },
    {
      "cell_type": "markdown",
      "source": [
        "Записываем полученный набор данных в временную папку и проверяем, что файлы были записаны"
      ],
      "metadata": {
        "id": "Hqn34bEPqLft"
      }
    },
    {
      "cell_type": "code",
      "source": [
        "output_dir = \"/content/r_1_temp\"\n",
        "df.coalesce(1).write.csv(output_dir, header=True, mode='overwrite')\n",
        "if os.path.exists(output_dir):\n",
        "    print(f\"Содержимое временной папки {output_dir}:\")\n",
        "    print(os.listdir(output_dir))\n",
        "else:\n",
        "    print(f\"Папка {output_dir} не существует.\")"
      ],
      "metadata": {
        "colab": {
          "base_uri": "https://localhost:8080/"
        },
        "id": "A3VKT8ceqNam",
        "outputId": "32da6387-dfef-45ed-92ee-d065e549f585"
      },
      "execution_count": 11,
      "outputs": [
        {
          "output_type": "stream",
          "name": "stdout",
          "text": [
            "Содержимое временной папки /content/r_1_temp:\n",
            "['._SUCCESS.crc', '_SUCCESS', 'part-00000-ff8514e1-ee7e-495e-b0dd-75f3c259c62a-c000.csv', '.part-00000-ff8514e1-ee7e-495e-b0dd-75f3c259c62a-c000.csv.crc']\n"
          ]
        }
      ]
    },
    {
      "cell_type": "code",
      "source": [
        "dst_file = \"/content/r_1.csv\" # Путь к целевому файлу"
      ],
      "metadata": {
        "id": "D13umcmWqddg"
      },
      "execution_count": 12,
      "outputs": []
    },
    {
      "cell_type": "markdown",
      "source": [
        "Проверяем, существует ли файл или папка с таким именем и удаляем, если это так"
      ],
      "metadata": {
        "id": "mLnELhQvqcLn"
      }
    },
    {
      "cell_type": "code",
      "source": [
        "if os.path.exists(dst_file):\n",
        "    if os.path.isdir(dst_file):\n",
        "        shutil.rmtree(dst_file)\n",
        "    else:\n",
        "        os.remove(dst_file)"
      ],
      "metadata": {
        "id": "EtbmnMo7qlZh"
      },
      "execution_count": 13,
      "outputs": []
    },
    {
      "cell_type": "markdown",
      "source": [
        "Объединяем все части в один файл"
      ],
      "metadata": {
        "id": "MWl8Wyonqwzb"
      }
    },
    {
      "cell_type": "code",
      "source": [
        "with open(dst_file, 'wb') as outfile:\n",
        "    for file in os.listdir(output_dir):\n",
        "        if file.startswith(\"part-\") and file.endswith(\".csv\"):\n",
        "            part_file_path = os.path.join(output_dir, file)\n",
        "            with open(part_file_path, 'rb') as infile:\n",
        "                shutil.copyfileobj(infile, outfile)\n",
        "\n",
        "print(f\"Файл успешно создан: {dst_file}\")"
      ],
      "metadata": {
        "colab": {
          "base_uri": "https://localhost:8080/"
        },
        "id": "fOGqYQWFqv97",
        "outputId": "c8d8be61-a6c6-42c1-8ee5-276296730aea"
      },
      "execution_count": 14,
      "outputs": [
        {
          "output_type": "stream",
          "name": "stdout",
          "text": [
            "Файл успешно создан: /content/r_1.csv\n"
          ]
        }
      ]
    },
    {
      "cell_type": "markdown",
      "source": [
        "Удаляем временную папку"
      ],
      "metadata": {
        "id": "x4CS8OXpq7PE"
      }
    },
    {
      "cell_type": "code",
      "source": [
        "shutil.rmtree(output_dir)\n",
        "print(f\"Временная папка {output_dir} удалена.\")"
      ],
      "metadata": {
        "colab": {
          "base_uri": "https://localhost:8080/"
        },
        "id": "UzDNPjSRq4i0",
        "outputId": "5d2ed46d-a0bb-4baf-9017-6732ba4b7dac"
      },
      "execution_count": 15,
      "outputs": [
        {
          "output_type": "stream",
          "name": "stdout",
          "text": [
            "Временная папка /content/r_1_temp удалена.\n"
          ]
        }
      ]
    },
    {
      "cell_type": "code",
      "source": [
        "spark.stop() # Завершаем сессию Spark"
      ],
      "metadata": {
        "id": "ALoOi9i5q_JC"
      },
      "execution_count": 16,
      "outputs": []
    },
    {
      "cell_type": "markdown",
      "source": [
        "# **Задание 2**"
      ],
      "metadata": {
        "id": "QZ-jb8FPrPkX"
      }
    },
    {
      "cell_type": "markdown",
      "source": [
        "Загружаем библиотеки"
      ],
      "metadata": {
        "id": "30FJ1l_DvbXo"
      }
    },
    {
      "cell_type": "code",
      "source": [
        "from pyspark.sql import SparkSession\n",
        "from pyspark.sql.functions import count, avg, min\n",
        "import shutil\n",
        "import os\n",
        "import glob\n",
        "import time"
      ],
      "metadata": {
        "id": "LBHCeV5Wvipi"
      },
      "execution_count": 24,
      "outputs": []
    },
    {
      "cell_type": "markdown",
      "source": [
        "Создаем SparkSession"
      ],
      "metadata": {
        "id": "Eu1LUcJ-vd54"
      }
    },
    {
      "cell_type": "code",
      "source": [
        "spark = SparkSession.builder \\\n",
        "    .appName(\"JSON to DataFrame\") \\\n",
        "    .getOrCreate()"
      ],
      "metadata": {
        "id": "NRhsZpztvlsC"
      },
      "execution_count": 25,
      "outputs": []
    },
    {
      "cell_type": "markdown",
      "source": [
        "Считываем файл 1.json и создаем Spark DataFrame"
      ],
      "metadata": {
        "id": "pm7xTTZNvgrs"
      }
    },
    {
      "cell_type": "code",
      "source": [
        "df = spark.read.json(\"/content/2.json\")"
      ],
      "metadata": {
        "id": "R5vCz_CpvoNT"
      },
      "execution_count": 26,
      "outputs": []
    },
    {
      "cell_type": "markdown",
      "source": [
        "Выводим последние 5 строк"
      ],
      "metadata": {
        "id": "VmOkO0cxvoxX"
      }
    },
    {
      "cell_type": "code",
      "source": [
        "df.tail(5)"
      ],
      "metadata": {
        "colab": {
          "base_uri": "https://localhost:8080/"
        },
        "id": "2zpxSo35vrzM",
        "outputId": "7fb810bb-4c1e-4585-97ac-e52b1a8e076e"
      },
      "execution_count": 27,
      "outputs": [
        {
          "output_type": "execute_result",
          "data": {
            "text/plain": [
              "[Row(category='Electronics', description='Item 904', item_id=904, length=4888.74, price=1734.71, weight=6099.33, width=7732.28),\n",
              " Row(category='Musical Instruments', description='Item 905', item_id=905, length=270.35, price=2648.39, weight=2266.65, width=9327.94),\n",
              " Row(category='Art Supplies', description='Item 906', item_id=906, length=334.56, price=7888.39, weight=1222.35, width=89.4),\n",
              " Row(category='Musical Instruments', description='Item 907', item_id=907, length=2013.71, price=8507.64, weight=984.87, width=574.17),\n",
              " Row(category='Art Supplies', description='Item 908', item_id=908, length=487.62, price=74.2, weight=9007.79, width=1619.84)]"
            ]
          },
          "metadata": {},
          "execution_count": 27
        }
      ]
    },
    {
      "cell_type": "markdown",
      "source": [
        "Отфильтруем данные, где length < 4622.0"
      ],
      "metadata": {
        "id": "h3cMZawOvtXr"
      }
    },
    {
      "cell_type": "code",
      "source": [
        "filtered_df = df.filter(df[\"length\"] < 4622.0)"
      ],
      "metadata": {
        "id": "tCYRprcPvxI8"
      },
      "execution_count": 28,
      "outputs": []
    },
    {
      "cell_type": "markdown",
      "source": [
        "Подсчитаем, сколько строк было отфильтровано на предыдущем шаге"
      ],
      "metadata": {
        "id": "ATuiHVmnvymU"
      }
    },
    {
      "cell_type": "code",
      "source": [
        "filtered_count = filtered_df.count()\n",
        "print(f\"Количество отфильтрованных строк: {filtered_count}\")"
      ],
      "metadata": {
        "colab": {
          "base_uri": "https://localhost:8080/"
        },
        "id": "KKaYdhWvv0w8",
        "outputId": "66b25a69-3097-42f6-d5d3-f7b1519270ca"
      },
      "execution_count": 29,
      "outputs": [
        {
          "output_type": "stream",
          "name": "stdout",
          "text": [
            "Количество отфильтрованных строк: 730\n"
          ]
        }
      ]
    },
    {
      "cell_type": "markdown",
      "source": [
        "Выполняем группировку по полю category, для каждой категории рассчитав: количество элементов в группе, avg price, min width, min length"
      ],
      "metadata": {
        "id": "EaWuvbB_v5Il"
      }
    },
    {
      "cell_type": "code",
      "source": [
        "grouped_df = filtered_df.groupBy(\"category\").agg(\n",
        "    count(\"*\").alias(\"count\"),\n",
        "    avg(\"price\").alias(\"avg_price\"),\n",
        "    min(\"width\").alias(\"min_width\"),\n",
        "    min(\"length\").alias(\"min_length\")\n",
        ")"
      ],
      "metadata": {
        "id": "cMNdaa84v6Pd"
      },
      "execution_count": 30,
      "outputs": []
    },
    {
      "cell_type": "markdown",
      "source": [
        "Записываем полученный набор данных в один файл"
      ],
      "metadata": {
        "id": "Fv78lcvcv-U9"
      }
    },
    {
      "cell_type": "code",
      "source": [
        "output_dir = \"/content/temp_output\"\n",
        "final_output_file = \"/content/r_2.json\"\n",
        "grouped_df.coalesce(1).write.json(output_dir, mode='overwrite')\n",
        "time.sleep(1)"
      ],
      "metadata": {
        "id": "9WaqRjJawBMO"
      },
      "execution_count": 31,
      "outputs": []
    },
    {
      "cell_type": "markdown",
      "source": [
        "Проверяем, создана ли папка и есть ли в ней файлы"
      ],
      "metadata": {
        "id": "X93YvbsdwODI"
      }
    },
    {
      "cell_type": "code",
      "source": [
        "if os.path.exists(output_dir):\n",
        "    part_file = os.path.join(output_dir, \"part-*\")\n",
        "    part_file_paths = glob.glob(part_file)\n",
        "\n",
        "    if part_file_paths:\n",
        "        # Переименовываем файл в r_2.json\n",
        "        shutil.move(part_file_paths[0], final_output_file)\n",
        "        print(f\"Данные успешно записаны в файл: {final_output_file}\")\n",
        "    else:\n",
        "        print(\"Ошибка: не найден ни один файл в выходной директории.\")\n",
        "else:\n",
        "    print(\"Ошибка: выходная директория не существует.\")"
      ],
      "metadata": {
        "colab": {
          "base_uri": "https://localhost:8080/"
        },
        "id": "1LhoHqaewIH3",
        "outputId": "25ffa04d-69cb-493f-b6e6-26782f383986"
      },
      "execution_count": 32,
      "outputs": [
        {
          "output_type": "stream",
          "name": "stdout",
          "text": [
            "Данные успешно записаны в файл: /content/r_2.json\n"
          ]
        }
      ]
    },
    {
      "cell_type": "markdown",
      "source": [
        "Удаляем временную папку, если она существует"
      ],
      "metadata": {
        "id": "gr_KpKk_wX05"
      }
    },
    {
      "cell_type": "code",
      "source": [
        "if os.path.exists(output_dir):\n",
        "    shutil.rmtree(output_dir)"
      ],
      "metadata": {
        "id": "v1VdJHKzwaLi"
      },
      "execution_count": 33,
      "outputs": []
    },
    {
      "cell_type": "code",
      "source": [
        "spark.stop() # Завершаем сессию Spark"
      ],
      "metadata": {
        "id": "f_ecQe6fwa3L"
      },
      "execution_count": 34,
      "outputs": []
    },
    {
      "cell_type": "markdown",
      "source": [
        "# **Задание 3**"
      ],
      "metadata": {
        "id": "TWxpfrcVwsrl"
      }
    },
    {
      "cell_type": "code",
      "source": [
        "from pyspark.sql import SparkSession\n",
        "from pyspark.sql.functions import col, mean, count, when\n",
        "import pandas as pd"
      ],
      "metadata": {
        "id": "R2ysdYYSyh8v"
      },
      "execution_count": 37,
      "outputs": []
    },
    {
      "cell_type": "code",
      "source": [
        "spark = SparkSession.builder \\\n",
        "    .appName(\"CSV to DataFrame\") \\\n",
        "    .getOrCreate()"
      ],
      "metadata": {
        "id": "sg31lrSCyjgA"
      },
      "execution_count": 38,
      "outputs": []
    },
    {
      "cell_type": "markdown",
      "source": [
        "Считываем файл 3.csv и создаем Spark DataFrame."
      ],
      "metadata": {
        "id": "ebAonrqZyoG3"
      }
    },
    {
      "cell_type": "code",
      "source": [
        "df = spark.read.csv(\"/content/3.csv\", header=True, inferSchema=True)"
      ],
      "metadata": {
        "id": "u28prdnAykxP"
      },
      "execution_count": 39,
      "outputs": []
    },
    {
      "cell_type": "markdown",
      "source": [
        "Считаем количество пропусков"
      ],
      "metadata": {
        "id": "pojhmplQyrRJ"
      }
    },
    {
      "cell_type": "code",
      "source": [
        "missing_counts = df.select([(count(col(c).isNull()).alias(c)) for c in df.columns])\n",
        "missing_counts.show()"
      ],
      "metadata": {
        "colab": {
          "base_uri": "https://localhost:8080/"
        },
        "id": "8TRJTHa6ytXy",
        "outputId": "8e871912-94c8-418f-d6df-6b80f7c05e30"
      },
      "execution_count": 40,
      "outputs": [
        {
          "output_type": "stream",
          "name": "stdout",
          "text": [
            "+---+----+-----+---+----+---+---+----+-----+-----+------+----+------+------+---+----+------+---+----+------+------+---+---+----+---+----+---+---+----+---+----+---+---+----+---+----+----+---+---+---+---+---+---+---+---+---+----+----+---+------+----+----+---+----+\n",
            "|785|-690|null2|923|-344|638|651|-710|-5168|null9|-56810|-723|null12|null13|762|-405|-51616|949|-632|null19|null20|310|784|-927|575|-403|341|-22|-272|239|-365|401|529|-108|694|-262|-388|886|394| 69|563|252| 90| -2|287|-57|-270|-876|156|-56849|-244|-569|737|-867|\n",
            "+---+----+-----+---+----+---+---+----+-----+-----+------+----+------+------+---+----+------+---+----+------+------+---+---+----+---+----+---+---+----+---+----+---+---+----+---+----+----+---+---+---+---+---+---+---+---+---+----+----+---+------+----+----+---+----+\n",
            "|289| 289|  289|289| 289|289|289| 289|  289|  289|   289| 289|   289|   289|289| 289|   289|289| 289|   289|   289|289|289| 289|289| 289|289|289| 289|289| 289|289|289| 289|289| 289| 289|289|289|289|289|289|289|289|289|289| 289| 289|289|   289| 289| 289|289| 289|\n",
            "+---+----+-----+---+----+---+---+----+-----+-----+------+----+------+------+---+----+------+---+----+------+------+---+---+----+---+----+---+---+----+---+----+---+---+----+---+----+----+---+---+---+---+---+---+---+---+---+----+----+---+------+----+----+---+----+\n",
            "\n"
          ]
        }
      ]
    },
    {
      "cell_type": "markdown",
      "source": [
        "Обработываем пропуски: заполняем средним по колонке"
      ],
      "metadata": {
        "id": "iBNZbW4ZytwB"
      }
    },
    {
      "cell_type": "code",
      "source": [
        "for column in df.columns:\n",
        "    mean_value = df.select(mean(col(column))).first()[0]\n",
        "    df = df.fillna({column: mean_value})"
      ],
      "metadata": {
        "id": "a-ZGzgMlywMw"
      },
      "execution_count": 41,
      "outputs": []
    },
    {
      "cell_type": "markdown",
      "source": [
        "Создаем новый столбец с количеством положительных значений"
      ],
      "metadata": {
        "id": "ls-rgq7syzbZ"
      }
    },
    {
      "cell_type": "code",
      "source": [
        "positive_count_column = sum(when(col(c) > 0, 1).otherwise(0) for c in df.columns)\n",
        "df = df.withColumn(\"positive_count\", positive_count_column)"
      ],
      "metadata": {
        "id": "xeNzgzruy-Vy"
      },
      "execution_count": 42,
      "outputs": []
    },
    {
      "cell_type": "markdown",
      "source": [
        "Производим фильтрацию данных: оставляем строки, в которых количество положительных элементов больше 0."
      ],
      "metadata": {
        "id": "V4dPadldzB67"
      }
    },
    {
      "cell_type": "code",
      "source": [
        "df_filtered = df.where(col(\"positive_count\") > 0)"
      ],
      "metadata": {
        "id": "_8_JrxVxzCXT"
      },
      "execution_count": 43,
      "outputs": []
    },
    {
      "cell_type": "markdown",
      "source": [
        "Подсчитываем статистику по каждой колонке и сохраняем в отдельный df"
      ],
      "metadata": {
        "id": "VHZEBdMTzFC7"
      }
    },
    {
      "cell_type": "code",
      "source": [
        "stats_df = df_filtered.describe()"
      ],
      "metadata": {
        "id": "2GlevYx5zILk"
      },
      "execution_count": 44,
      "outputs": []
    },
    {
      "cell_type": "markdown",
      "source": [
        "Преобразуем DataFrame в Pandas для записи в файл"
      ],
      "metadata": {
        "id": "pWPPfnH6zPVV"
      }
    },
    {
      "cell_type": "code",
      "source": [
        "pandas_df = df_filtered.toPandas()"
      ],
      "metadata": {
        "id": "YFI_YLu6zSb-"
      },
      "execution_count": 45,
      "outputs": []
    },
    {
      "cell_type": "markdown",
      "source": [
        "Записываем полученный DataFrame в файл r_3.csv"
      ],
      "metadata": {
        "id": "HHw-3tN2zUr-"
      }
    },
    {
      "cell_type": "code",
      "source": [
        "pandas_df.to_csv(\"/content/r_3.csv\", index=False)"
      ],
      "metadata": {
        "id": "D6a4BSj8zXSv"
      },
      "execution_count": 46,
      "outputs": []
    },
    {
      "cell_type": "code",
      "source": [
        "spark.stop() # Завершаем сессию Spark"
      ],
      "metadata": {
        "id": "oKr7CPcAzZcn"
      },
      "execution_count": 47,
      "outputs": []
    }
  ]
}